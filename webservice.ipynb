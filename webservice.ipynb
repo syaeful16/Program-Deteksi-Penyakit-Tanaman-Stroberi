{
 "cells": [
  {
   "cell_type": "code",
   "execution_count": 1,
   "metadata": {},
   "outputs": [],
   "source": [
    "from flask import Flask, render_template, request, redirect, url_for\n",
    "import tensorflow as tf\n",
    "from tensorflow.keras.applications.resnet50 import ResNet50\n",
    "from tensorflow.keras.models import Sequential\n",
    "from tensorflow.keras.layers import Dense, Flatten\n",
    "import cv2, numpy as np"
   ]
  },
  {
   "cell_type": "code",
   "execution_count": 2,
   "metadata": {},
   "outputs": [],
   "source": [
    "resnet_model = Sequential()\n",
    "\n",
    "pretrained_model = ResNet50(\n",
    "  include_top=False,\n",
    "  input_shape=(224, 224, 3),\n",
    "  pooling='avg',\n",
    "  classes=5,\n",
    "  weights='imagenet'\n",
    ")\n",
    "\n",
    "for layer in pretrained_model.layers:\n",
    "  layer.trainable = False\n",
    "\n",
    "resnet_model.add(pretrained_model)\n",
    "resnet_model.add(Flatten())\n",
    "resnet_model.add(Dense(256, activation='relu'))\n",
    "resnet_model.add(Dense(5, activation='softmax'))"
   ]
  },
  {
   "cell_type": "code",
   "execution_count": 3,
   "metadata": {},
   "outputs": [],
   "source": [
    "model = tf.keras.models.load_model('resnet1620.h5')"
   ]
  },
  {
   "cell_type": "code",
   "execution_count": 4,
   "metadata": {},
   "outputs": [
    {
     "name": "stdout",
     "output_type": "stream",
     "text": [
      " * Serving Flask app '__main__' (lazy loading)\n",
      " * Environment: production\n",
      "\u001b[31m   WARNING: This is a development server. Do not use it in a production deployment.\u001b[0m\n",
      "\u001b[2m   Use a production WSGI server instead.\u001b[0m\n",
      " * Debug mode: on\n"
     ]
    },
    {
     "name": "stderr",
     "output_type": "stream",
     "text": [
      " * Running on http://127.0.0.1:3000/ (Press CTRL+C to quit)\n",
      "127.0.0.1 - - [31/Jan/2023 21:52:53] \"GET / HTTP/1.1\" 200 -\n",
      "127.0.0.1 - - [31/Jan/2023 21:52:53] \"GET /static/gambar/leaf%201.png HTTP/1.1\" 200 -\n",
      "127.0.0.1 - - [31/Jan/2023 21:52:53] \"GET /static/css/style.css HTTP/1.1\" 200 -\n",
      "127.0.0.1 - - [31/Jan/2023 21:52:54] \"GET /favicon.ico HTTP/1.1\" 404 -\n"
     ]
    },
    {
     "name": "stdout",
     "output_type": "stream",
     "text": [
      "WARNING:tensorflow:AutoGraph could not transform <function Model.make_predict_function.<locals>.predict_function at 0x000002159E2759D8> and will run it as-is.\n",
      "Please report this to the TensorFlow team. When filing the bug, set the verbosity to 10 (on Linux, `export AUTOGRAPH_VERBOSITY=10`) and attach the full output.\n",
      "Cause: 'arguments' object has no attribute 'posonlyargs'\n",
      "To silence this warning, decorate the function with @tf.autograph.experimental.do_not_convert\n",
      "WARNING: AutoGraph could not transform <function Model.make_predict_function.<locals>.predict_function at 0x000002159E2759D8> and will run it as-is.\n",
      "Please report this to the TensorFlow team. When filing the bug, set the verbosity to 10 (on Linux, `export AUTOGRAPH_VERBOSITY=10`) and attach the full output.\n",
      "Cause: 'arguments' object has no attribute 'posonlyargs'\n",
      "To silence this warning, decorate the function with @tf.autograph.experimental.do_not_convert\n",
      "1/1 [==============================] - 5s 5s/step\n"
     ]
    },
    {
     "name": "stderr",
     "output_type": "stream",
     "text": [
      "127.0.0.1 - - [31/Jan/2023 21:53:23] \"POST / HTTP/1.1\" 200 -\n",
      "127.0.0.1 - - [31/Jan/2023 21:53:23] \"GET /static/css/style.css HTTP/1.1\" 304 -\n",
      "127.0.0.1 - - [31/Jan/2023 21:53:23] \"GET /static/upload/buah%20busuk_1.jpeg HTTP/1.1\" 200 -\n",
      "127.0.0.1 - - [31/Jan/2023 21:53:23] \"GET /static/gambar/leaf%201.png HTTP/1.1\" 304 -\n"
     ]
    },
    {
     "name": "stdout",
     "output_type": "stream",
     "text": [
      "1/1 [==============================] - 0s 23ms/step\n"
     ]
    },
    {
     "name": "stderr",
     "output_type": "stream",
     "text": [
      "127.0.0.1 - - [31/Jan/2023 21:57:56] \"POST / HTTP/1.1\" 200 -\n",
      "127.0.0.1 - - [31/Jan/2023 21:57:56] \"GET /static/css/style.css HTTP/1.1\" 304 -\n",
      "127.0.0.1 - - [31/Jan/2023 21:57:56] \"GET /static/upload/buah%20embun%20tepung_1.jpg HTTP/1.1\" 200 -\n",
      "127.0.0.1 - - [31/Jan/2023 21:57:56] \"GET /static/gambar/leaf%201.png HTTP/1.1\" 304 -\n"
     ]
    },
    {
     "name": "stdout",
     "output_type": "stream",
     "text": [
      "1/1 [==============================] - 0s 21ms/step\n"
     ]
    },
    {
     "name": "stderr",
     "output_type": "stream",
     "text": [
      "127.0.0.1 - - [31/Jan/2023 22:00:38] \"POST / HTTP/1.1\" 200 -\n",
      "127.0.0.1 - - [31/Jan/2023 22:00:38] \"GET /static/css/style.css HTTP/1.1\" 304 -\n",
      "127.0.0.1 - - [31/Jan/2023 22:00:38] \"GET /static/upload/daun%20embun%20tepung_1.jpg HTTP/1.1\" 200 -\n",
      "127.0.0.1 - - [31/Jan/2023 22:00:38] \"GET /static/gambar/leaf%201.png HTTP/1.1\" 304 -\n"
     ]
    },
    {
     "name": "stdout",
     "output_type": "stream",
     "text": [
      "1/1 [==============================] - 0s 20ms/step\n"
     ]
    },
    {
     "name": "stderr",
     "output_type": "stream",
     "text": [
      "127.0.0.1 - - [31/Jan/2023 22:00:45] \"POST / HTTP/1.1\" 200 -\n",
      "127.0.0.1 - - [31/Jan/2023 22:00:45] \"GET /static/css/style.css HTTP/1.1\" 304 -\n",
      "127.0.0.1 - - [31/Jan/2023 22:00:45] \"GET /static/upload/daun%20embun%20tepung_4.jpg HTTP/1.1\" 200 -\n",
      "127.0.0.1 - - [31/Jan/2023 22:00:45] \"GET /static/gambar/leaf%201.png HTTP/1.1\" 304 -\n"
     ]
    },
    {
     "name": "stdout",
     "output_type": "stream",
     "text": [
      "1/1 [==============================] - 0s 23ms/step\n"
     ]
    },
    {
     "name": "stderr",
     "output_type": "stream",
     "text": [
      "127.0.0.1 - - [31/Jan/2023 22:03:18] \"POST / HTTP/1.1\" 200 -\n",
      "127.0.0.1 - - [31/Jan/2023 22:03:18] \"GET /static/upload/sehat_8.jpg HTTP/1.1\" 200 -\n",
      "127.0.0.1 - - [31/Jan/2023 22:03:18] \"GET /static/css/style.css HTTP/1.1\" 304 -\n",
      "127.0.0.1 - - [31/Jan/2023 22:03:18] \"GET /static/gambar/leaf%201.png HTTP/1.1\" 304 -\n"
     ]
    },
    {
     "name": "stdout",
     "output_type": "stream",
     "text": [
      "1/1 [==============================] - 0s 24ms/step\n"
     ]
    },
    {
     "name": "stderr",
     "output_type": "stream",
     "text": [
      "127.0.0.1 - - [31/Jan/2023 22:08:35] \"POST / HTTP/1.1\" 200 -\n",
      "127.0.0.1 - - [31/Jan/2023 22:08:35] \"GET /static/css/style.css HTTP/1.1\" 304 -\n",
      "127.0.0.1 - - [31/Jan/2023 22:08:35] \"GET /static/upload/sehat_4.jpg HTTP/1.1\" 200 -\n",
      "127.0.0.1 - - [31/Jan/2023 22:08:35] \"GET /static/gambar/leaf%201.png HTTP/1.1\" 304 -\n"
     ]
    }
   ],
   "source": [
    "app = Flask(__name__)\n",
    "\n",
    "class_names = ['Bercak Daun', 'Buah Busuk', 'Buah Embun Tepung', 'Daun Embun Tepung', 'Sehat']\n",
    "\n",
    "@app.route('/', methods=['GET'])\n",
    "def index():\n",
    "    return render_template('index.html')\n",
    "\n",
    "@app.route('/', methods=['POST'])\n",
    "def predict():\n",
    "    imagefile = request.files['imagefile']\n",
    "    image_path = \"static/upload/\" + imagefile.filename\n",
    "    imagefile.save(image_path)\n",
    "\n",
    "    img = cv2.imread(image_path)\n",
    "    img_resized = cv2.resize(img, (224, 224))\n",
    "    img = np.expand_dims(img_resized, axis=0)\n",
    "\n",
    "    pred = model.predict(img)\n",
    "    hasil = class_names[np.argmax(pred)]\n",
    "\n",
    "    return render_template('index.html', filename=imagefile.filename, result=hasil, img=\"static/upload/\"+imagefile.filename)\n",
    "\n",
    "if __name__ == \"__main__\":\n",
    "    app.run(port=3000, debug=True, use_reloader=False)"
   ]
  }
 ],
 "metadata": {
  "kernelspec": {
   "display_name": "Python 3.7.9 64-bit",
   "language": "python",
   "name": "python3"
  },
  "language_info": {
   "codemirror_mode": {
    "name": "ipython",
    "version": 3
   },
   "file_extension": ".py",
   "mimetype": "text/x-python",
   "name": "python",
   "nbconvert_exporter": "python",
   "pygments_lexer": "ipython3",
   "version": "3.7.9"
  },
  "orig_nbformat": 4,
  "vscode": {
   "interpreter": {
    "hash": "831373ce466d4fcacd6977648a6203ab03fa5b4aa06f275839477c1975216ffa"
   }
  }
 },
 "nbformat": 4,
 "nbformat_minor": 2
}
